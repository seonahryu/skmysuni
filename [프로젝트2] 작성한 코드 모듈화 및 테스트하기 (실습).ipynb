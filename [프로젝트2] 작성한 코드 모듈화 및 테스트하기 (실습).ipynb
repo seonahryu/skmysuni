{
 "cells": [
  {
   "cell_type": "markdown",
   "id": "aad1a11f",
   "metadata": {},
   "source": [
    "# [프로젝트2] 작성한 코드 모듈화 및 테스트하기"
   ]
  },
  {
   "cell_type": "markdown",
   "id": "a43b082f",
   "metadata": {},
   "source": [
    "## 프로젝트 목표\n",
    "---\n",
    "- Jupyter Notebook 으로 완성한 코드를 클래스화(모듈화) 하고, 이를 테스트"
   ]
  },
  {
   "cell_type": "markdown",
   "id": "e5cfa47a",
   "metadata": {},
   "source": [
    "## 프로젝트 목차\n",
    "---\n",
    "\n",
    "1. **데이터 읽기:** 철근 가격 데이터 읽기 및 DataFrame 생성\n",
    "\n",
    "2. **데이터셋 생성:** src 라이브러리의 Datasets 클래스로 데이터셋 생성\n",
    "\n",
    "3. **모델 훈련:** train() 함수로 훈련\n",
    "\n",
    "4. **훈련 결과 시각화:** 모델의 훈련(손실) 결과 시각화\n",
    "\n",
    "5. **검증 및 시각화:** Data Loader로 검증 결과 도출 및 결과 시각화"
   ]
  },
  {
   "cell_type": "markdown",
   "id": "109c0d38",
   "metadata": {},
   "source": [
    "## 1. 데이터 읽기"
   ]
  },
  {
   "cell_type": "markdown",
   "id": "4fed3a85",
   "metadata": {},
   "source": [
    "### 1.1 필요한 라이브러리 import"
   ]
  },
  {
   "cell_type": "code",
   "execution_count": 1,
   "id": "f1f36300",
   "metadata": {},
   "outputs": [],
   "source": [
    "import numpy as np\n",
    "import pandas as pd\n",
    "import matplotlib.pyplot as plt\n",
    "import seaborn as sns\n",
    "import importlib\n",
    "import src\n",
    "# src.py 파일 불러와\n",
    "import warnings\n",
    "\n",
    "# 라이브러리 reload\n",
    "importlib.reload(src)\n",
    "\n",
    "# Unicode warning 제거 (폰트 관련 경고메시지)\n",
    "plt.rcParams['axes.unicode_minus']=False\n",
    "\n",
    "# 한글 폰트 설정\n",
    "# plt.rcParams['font.family'] = \"AppleGothic\"\n",
    "plt.rcParams['font.family'] = \"NanumGothic\"\n",
    "\n",
    "# 경고 메시지 출력 안함\n",
    "warnings.filterwarnings('ignore')\n",
    "\n",
    "# DataFrame 소수점 이하 4째자리까지 표현\n",
    "pd.set_option('display.float_format', lambda x: f'{x:.4f}') "
   ]
  },
  {
   "cell_type": "markdown",
   "id": "8dfe1bdd",
   "metadata": {},
   "source": [
    "### 1.2 데이터 불러오기"
   ]
  },
  {
   "cell_type": "markdown",
   "id": "90db05f4",
   "metadata": {},
   "source": [
    "데이터는 '/mnt/elice/dataset' 에 위치해있으며, 파일명은 '전처리Data.xlsx' 입니다. (파일명에서도 나타나있듯, xlsx 확장자를 갖습니다.)"
   ]
  },
  {
   "cell_type": "code",
   "execution_count": 2,
   "id": "b5330559",
   "metadata": {},
   "outputs": [
    {
     "data": {
      "text/plain": [
       "['/mnt/elice/dataset/전처리Data.xlsx']"
      ]
     },
     "execution_count": 2,
     "metadata": {},
     "output_type": "execute_result"
    }
   ],
   "source": [
    "import glob\n",
    "\n",
    "glob.glob('/mnt/elice/dataset/*')\n",
    "# 파일 위치 확인"
   ]
  },
  {
   "cell_type": "code",
   "execution_count": 3,
   "id": "8ebbe7dc",
   "metadata": {},
   "outputs": [
    {
     "name": "stdout",
     "output_type": "stream",
     "text": [
      "(937, 13)\n"
     ]
    },
    {
     "data": {
      "text/html": [
       "<div>\n",
       "<style scoped>\n",
       "    .dataframe tbody tr th:only-of-type {\n",
       "        vertical-align: middle;\n",
       "    }\n",
       "\n",
       "    .dataframe tbody tr th {\n",
       "        vertical-align: top;\n",
       "    }\n",
       "\n",
       "    .dataframe thead th {\n",
       "        text-align: right;\n",
       "    }\n",
       "</style>\n",
       "<table border=\"1\" class=\"dataframe\">\n",
       "  <thead>\n",
       "    <tr style=\"text-align: right;\">\n",
       "      <th></th>\n",
       "      <th>Date</th>\n",
       "      <th>고철 중량A (구좌업체매입가) [한국(국내가)] 현물KRW/ton</th>\n",
       "      <th>고철 H2 [일본(FOB)] 현물KRW/ton</th>\n",
       "      <th>고철 HMS No.1 [미국(한국 CFR)] 현물KRW/ton</th>\n",
       "      <th>철근 고장력 HD10mm [한국(출고가)] 현물KRW/ton</th>\n",
       "      <th>철근 고장력 HD10mm [한국(국내 중국산)] 현물KRW/ton</th>\n",
       "      <th>철근 고장력 HD10mm [한국(1차 유통가)] 현물KRW/ton</th>\n",
       "      <th>판매량(천톤)</th>\n",
       "      <th>재고량(천톤)</th>\n",
       "      <th>허가 면적(철근)(단위 : 1,000 ㎡)</th>\n",
       "      <th>착공 면적(철근)(단위 : 1,000 ㎡)</th>\n",
       "      <th>동절기</th>\n",
       "      <th>장마기</th>\n",
       "    </tr>\n",
       "  </thead>\n",
       "  <tbody>\n",
       "    <tr>\n",
       "      <th>0</th>\n",
       "      <td>2013-01-04</td>\n",
       "      <td>42.5000</td>\n",
       "      <td>45.0100</td>\n",
       "      <td>47.5700</td>\n",
       "      <td>77.0000</td>\n",
       "      <td>64.0000</td>\n",
       "      <td>69.0000</td>\n",
       "      <td>662</td>\n",
       "      <td>317</td>\n",
       "      <td>12.4700</td>\n",
       "      <td>10.2500</td>\n",
       "      <td>1</td>\n",
       "      <td>0</td>\n",
       "    </tr>\n",
       "    <tr>\n",
       "      <th>1</th>\n",
       "      <td>2013-01-07</td>\n",
       "      <td>42.5000</td>\n",
       "      <td>43.9100</td>\n",
       "      <td>46.1800</td>\n",
       "      <td>75.0000</td>\n",
       "      <td>64.0000</td>\n",
       "      <td>69.0000</td>\n",
       "      <td>662</td>\n",
       "      <td>317</td>\n",
       "      <td>12.4700</td>\n",
       "      <td>10.2500</td>\n",
       "      <td>1</td>\n",
       "      <td>0</td>\n",
       "    </tr>\n",
       "    <tr>\n",
       "      <th>2</th>\n",
       "      <td>2013-01-11</td>\n",
       "      <td>43.5000</td>\n",
       "      <td>44.4400</td>\n",
       "      <td>47.2700</td>\n",
       "      <td>75.0000</td>\n",
       "      <td>64.0000</td>\n",
       "      <td>69.0000</td>\n",
       "      <td>662</td>\n",
       "      <td>317</td>\n",
       "      <td>12.4700</td>\n",
       "      <td>10.2500</td>\n",
       "      <td>1</td>\n",
       "      <td>0</td>\n",
       "    </tr>\n",
       "    <tr>\n",
       "      <th>3</th>\n",
       "      <td>2013-01-14</td>\n",
       "      <td>43.5000</td>\n",
       "      <td>45.3700</td>\n",
       "      <td>45.7400</td>\n",
       "      <td>75.0000</td>\n",
       "      <td>64.0000</td>\n",
       "      <td>69.0000</td>\n",
       "      <td>662</td>\n",
       "      <td>317</td>\n",
       "      <td>12.4700</td>\n",
       "      <td>10.2500</td>\n",
       "      <td>1</td>\n",
       "      <td>0</td>\n",
       "    </tr>\n",
       "    <tr>\n",
       "      <th>4</th>\n",
       "      <td>2013-01-18</td>\n",
       "      <td>42.3000</td>\n",
       "      <td>46.7200</td>\n",
       "      <td>47.2500</td>\n",
       "      <td>75.0000</td>\n",
       "      <td>64.0000</td>\n",
       "      <td>69.0000</td>\n",
       "      <td>662</td>\n",
       "      <td>317</td>\n",
       "      <td>12.4700</td>\n",
       "      <td>10.2500</td>\n",
       "      <td>1</td>\n",
       "      <td>0</td>\n",
       "    </tr>\n",
       "  </tbody>\n",
       "</table>\n",
       "</div>"
      ],
      "text/plain": [
       "        Date  고철 중량A (구좌업체매입가) [한국(국내가)] 현물KRW/ton  고철 H2 [일본(FOB)] 현물KRW/ton  \\\n",
       "0 2013-01-04                               42.5000                    45.0100   \n",
       "1 2013-01-07                               42.5000                    43.9100   \n",
       "2 2013-01-11                               43.5000                    44.4400   \n",
       "3 2013-01-14                               43.5000                    45.3700   \n",
       "4 2013-01-18                               42.3000                    46.7200   \n",
       "\n",
       "   고철 HMS No.1 [미국(한국 CFR)] 현물KRW/ton  철근 고장력 HD10mm [한국(출고가)] 현물KRW/ton  \\\n",
       "0                             47.5700                            77.0000   \n",
       "1                             46.1800                            75.0000   \n",
       "2                             47.2700                            75.0000   \n",
       "3                             45.7400                            75.0000   \n",
       "4                             47.2500                            75.0000   \n",
       "\n",
       "   철근 고장력 HD10mm [한국(국내 중국산)] 현물KRW/ton  철근 고장력 HD10mm [한국(1차 유통가)] 현물KRW/ton  \\\n",
       "0                               64.0000                               69.0000   \n",
       "1                               64.0000                               69.0000   \n",
       "2                               64.0000                               69.0000   \n",
       "3                               64.0000                               69.0000   \n",
       "4                               64.0000                               69.0000   \n",
       "\n",
       "   판매량(천톤)  재고량(천톤)  허가 면적(철근)(단위 : 1,000 ㎡)  착공 면적(철근)(단위 : 1,000 ㎡)  동절기  \\\n",
       "0      662      317                  12.4700                  10.2500    1   \n",
       "1      662      317                  12.4700                  10.2500    1   \n",
       "2      662      317                  12.4700                  10.2500    1   \n",
       "3      662      317                  12.4700                  10.2500    1   \n",
       "4      662      317                  12.4700                  10.2500    1   \n",
       "\n",
       "   장마기  \n",
       "0    0  \n",
       "1    0  \n",
       "2    0  \n",
       "3    0  \n",
       "4    0  "
      ]
     },
     "execution_count": 3,
     "metadata": {},
     "output_type": "execute_result"
    }
   ],
   "source": [
    "# 데이터 읽기 (DataFrame)\n",
    "df = pd.read_excel(r'/mnt/elice/dataset/전처리Data.xlsx')\n",
    "\n",
    "# Shape 확인\n",
    "print(df.shape)\n",
    "df.head()"
   ]
  },
  {
   "cell_type": "markdown",
   "id": "d912c551",
   "metadata": {},
   "source": [
    "## 2. DataSets로 데이터셋 생성"
   ]
  },
  {
   "cell_type": "markdown",
   "id": "62e18881",
   "metadata": {},
   "source": [
    "#### **[TODO]** src.py 파일에 정의된 DataSets() 클래스를 활용해서 데이터셋을 로드합니다.\n",
    "- 원본 데이터: `df`\n",
    "- 예측 목표 컬럼: `'철근 고장력 HD10mm [한국(출고가)] 현물KRW/ton'`\n",
    "- 배치 크기: 32\n",
    "- window 크기: 6"
   ]
  },
  {
   "cell_type": "code",
   "execution_count": 5,
   "id": "3434a1f4",
   "metadata": {},
   "outputs": [
    {
     "data": {
      "text/plain": [
       "\"\\nclass DataSets():\\n    def __init__(self, df, target_column, window_size=6, split_days=45, batch_size=32, device='cpu')\\n\""
      ]
     },
     "execution_count": 5,
     "metadata": {},
     "output_type": "execute_result"
    }
   ],
   "source": [
    "# src.py 파일에 정의된 DataSets() 클래스를 활용해서 Dataset을 생성합니다.\n",
    "dataset = src.DataSets(df, '철근 고장력 HD10mm [한국(출고가)] 현물KRW/ton')\n",
    "'''\n",
    "class DataSets():\n",
    "    def __init__(self, df, target_column, window_size=6, split_days=45, batch_size=32, device='cpu')\n",
    "'''"
   ]
  },
  {
   "cell_type": "markdown",
   "id": "e31d2496",
   "metadata": {},
   "source": [
    "#### **[TODO]** Dataset 클래스의 get_test_loader(), get_train_loader() 메서드를 활용해서 train, test 데이터 로더를 생성합니다."
   ]
  },
  {
   "cell_type": "code",
   "execution_count": 10,
   "id": "618d4358",
   "metadata": {},
   "outputs": [],
   "source": [
    "# train, test 데이터 로더를 생성해서 각 변수에 할당해주세요.\n",
    "train_loader = dataset.get_train_loader()\n",
    "test_loader = dataset.get_test_loader()"
   ]
  },
  {
   "cell_type": "code",
   "execution_count": 11,
   "id": "352057df",
   "metadata": {},
   "outputs": [],
   "source": [
    "# 1개 배치 추출\n",
    "x, y = next(iter(train_loader))"
   ]
  },
  {
   "cell_type": "code",
   "execution_count": 12,
   "id": "799846f2",
   "metadata": {},
   "outputs": [
    {
     "data": {
      "text/plain": [
       "(torch.Size([32, 6, 1]), torch.Size([32]))"
      ]
     },
     "execution_count": 12,
     "metadata": {},
     "output_type": "execute_result"
    }
   ],
   "source": [
    "# 추출된 데이터 shape\n",
    "x.shape, y.shape"
   ]
  },
  {
   "cell_type": "markdown",
   "id": "134ef157",
   "metadata": {},
   "source": [
    "## 3. 모델 훈련"
   ]
  },
  {
   "cell_type": "code",
   "execution_count": 13,
   "id": "25c9b733",
   "metadata": {},
   "outputs": [
    {
     "name": "stdout",
     "output_type": "stream",
     "text": [
      "cpu\n"
     ]
    }
   ],
   "source": [
    "import torch\n",
    "\n",
    "# device 설정 (cuda 혹은 cpu)\n",
    "# 여기서는 CPU를 사용.\n",
    "device = torch.device('cuda' if torch.cuda.is_available() else 'cpu')\n",
    "print(device)"
   ]
  },
  {
   "cell_type": "code",
   "execution_count": 14,
   "id": "5bcbfe4f",
   "metadata": {},
   "outputs": [
    {
     "name": "stdout",
     "output_type": "stream",
     "text": [
      "epoch: 1, loss: 2.9893\n",
      "epoch: 101, loss: 0.1587\n",
      "epoch: 201, loss: 0.0616\n",
      "epoch: 301, loss: 0.0507\n",
      "epoch: 401, loss: 0.0509\n",
      "epoch: 501, loss: 0.0509\n",
      "epoch: 601, loss: 0.0509\n",
      "epoch: 701, loss: 0.0509\n",
      "epoch: 801, loss: 0.0509\n",
      "epoch: 901, loss: 0.0509\n"
     ]
    }
   ],
   "source": [
    "# 모델 훈련 (src.train 함수)\n",
    "losses, model = src.train(train_loader, num_epochs=1000, device=device)"
   ]
  },
  {
   "cell_type": "markdown",
   "id": "f59f3a8a",
   "metadata": {},
   "source": [
    "학습을 완료한 모델의 구조를 확인합니다."
   ]
  },
  {
   "cell_type": "code",
   "execution_count": 15,
   "id": "fcbec1c6",
   "metadata": {},
   "outputs": [
    {
     "data": {
      "text/plain": [
       "LSTMModel(\n",
       "  (lstm): LSTM(1, 32, batch_first=True)\n",
       "  (fc): Linear(in_features=32, out_features=1, bias=True)\n",
       ")"
      ]
     },
     "execution_count": 15,
     "metadata": {},
     "output_type": "execute_result"
    }
   ],
   "source": [
    "model"
   ]
  },
  {
   "cell_type": "markdown",
   "id": "df972753",
   "metadata": {},
   "source": [
    "#### **[TODO]** 모델의 성능을 높이기 위해, 모델의 구조와 관련된 하이퍼파라미터를 변경한 다른 모델을 정의해 봅시다.\n",
    "- 입력 크기: 1\n",
    "- 은닉층 크기: 128\n",
    "- 출력 크기: 1\n",
    "- 레이어 수: 2\n",
    "- `bidirectional=True`"
   ]
  },
  {
   "cell_type": "code",
   "execution_count": 16,
   "id": "31e55f45",
   "metadata": {},
   "outputs": [],
   "source": [
    "# 하이퍼파라미터를 변경한 모델을 정의합니다.\n",
    "model2 = src.LSTMModel(input_size=1, \n",
    "                       hidden_size=128, \n",
    "                       output_size=1, \n",
    "                       num_layers=2, \n",
    "                       bidirectional=True)"
   ]
  },
  {
   "cell_type": "markdown",
   "id": "dfeffadc",
   "metadata": {},
   "source": [
    "- src.train 함수를 통해 `model2` 모델을 학습 데이터에 대해 훈련하고, 훈련이 완료된 모델을 다시 `model2` 에 저장합니다.\n",
    "    - epoch는 1000으로 설정합니다."
   ]
  },
  {
   "cell_type": "code",
   "execution_count": 17,
   "id": "59decf14",
   "metadata": {},
   "outputs": [
    {
     "name": "stdout",
     "output_type": "stream",
     "text": [
      "epoch: 1, loss: 1.2576\n",
      "epoch: 101, loss: 0.0520\n",
      "epoch: 201, loss: 0.0523\n",
      "epoch: 301, loss: 0.0523\n",
      "epoch: 401, loss: 0.0521\n",
      "epoch: 501, loss: 0.0519\n",
      "epoch: 601, loss: 0.0516\n",
      "epoch: 701, loss: 0.0501\n",
      "epoch: 801, loss: 0.0496\n",
      "epoch: 901, loss: 0.0495\n"
     ]
    }
   ],
   "source": [
    "# 재학습\n",
    "losses2, model2 = src.train(train_loader, num_epochs=1000, device=device, model=model2)"
   ]
  },
  {
   "cell_type": "markdown",
   "id": "85cde803",
   "metadata": {},
   "source": [
    "## 4. 훈련 결과 시각화"
   ]
  },
  {
   "cell_type": "code",
   "execution_count": 18,
   "id": "48aa0bbf",
   "metadata": {},
   "outputs": [
    {
     "data": {
      "image/png": "[encoded data removed]",
      "text/plain": [
       "<Figure size 1000x400 with 1 Axes>"
      ]
     },
     "metadata": {},
     "output_type": "display_data"
    }
   ],
   "source": [
    "# 학습/검증 손실 시각화\n",
    "fig, ax = plt.subplots(1, 1)\n",
    "fig.set_size_inches(10, 4)\n",
    "ax.plot(losses, color='red', linewidth=1.0, label='Training Loss')\n",
    "ax.set_title('Losses')\n",
    "ax.legend()\n",
    "plt.show()"
   ]
  },
  {
   "cell_type": "code",
   "execution_count": 19,
   "id": "a4de8d85",
   "metadata": {},
   "outputs": [
    {
     "data": {
      "image/png": "[encoded data removed]",
      "text/plain": [
       "<Figure size 1000x400 with 1 Axes>"
      ]
     },
     "metadata": {},
     "output_type": "display_data"
    }
   ],
   "source": [
    "# 학습/검증 손실 시각화\n",
    "fig, ax = plt.subplots(1, 1)\n",
    "fig.set_size_inches(10, 4)\n",
    "ax.plot(losses2, color='red', linewidth=1.0, label='Training Loss')\n",
    "ax.set_title('Losses_changed')\n",
    "ax.legend()\n",
    "plt.show()"
   ]
  },
  {
   "cell_type": "markdown",
   "id": "517e66fd",
   "metadata": {},
   "source": [
    "## 5. 검증 및 시각화"
   ]
  },
  {
   "cell_type": "code",
   "execution_count": 20,
   "id": "07340ed9",
   "metadata": {},
   "outputs": [],
   "source": [
    "# test_loader 에 대한 추론\n",
    "# def evaluate(data_loader, model, scaler, device='cpu'):\n",
    "y_trues, preds = src.evaluate(test_loader, model, dataset.get_scaler())"
   ]
  },
  {
   "cell_type": "code",
   "execution_count": 21,
   "id": "4edc43da",
   "metadata": {},
   "outputs": [
    {
     "data": {
      "image/png": "[encoded data removed]",
      "text/plain": [
       "<Figure size 800x400 with 1 Axes>"
      ]
     },
     "metadata": {},
     "output_type": "display_data"
    }
   ],
   "source": [
    "# 예측, 실제 값 비교 시각화\n",
    "fig, ax = plt.subplots(1, 1)\n",
    "fig.set_size_inches(8, 4)\n",
    "ax.plot(preds, color='tomato', linewidth=1.0, label='Prediction', linestyle='-.')\n",
    "ax.plot(y_trues, color='skyblue', linewidth=1.0, label='Actual')\n",
    "ax.set_title('Prediction vs Actual on 45 days')\n",
    "ax.legend()\n",
    "plt.show()"
   ]
  },
  {
   "cell_type": "code",
   "execution_count": 22,
   "id": "c4d56459",
   "metadata": {},
   "outputs": [],
   "source": [
    "# train_loader 에 대한 추론\n",
    "y_trues, preds = src.evaluate(train_loader, model, dataset.get_scaler())"
   ]
  },
  {
   "cell_type": "code",
   "execution_count": 23,
   "id": "bb2acee1",
   "metadata": {},
   "outputs": [
    {
     "data": {
      "image/png": "[encoded data removed]",
      "text/plain": [
       "<Figure size 800x400 with 1 Axes>"
      ]
     },
     "metadata": {},
     "output_type": "display_data"
    }
   ],
   "source": [
    "# 예측, 실제 값 비교 시각화\n",
    "fig, ax = plt.subplots(1, 1)\n",
    "fig.set_size_inches(8, 4)\n",
    "ax.plot(preds, color='tomato', linewidth=1.0, label='Prediction', linestyle='-.')\n",
    "ax.plot(y_trues, color='skyblue', linewidth=1.0, label='Actual')\n",
    "ax.set_title('Prediction vs Actual on Training Data')\n",
    "ax.legend()\n",
    "plt.show()"
   ]
  }
 ],
 "metadata": {
  "kernelspec": {
   "display_name": "Python 3 (ipykernel)",
   "language": "python",
   "name": "python3"
  },
  "language_info": {
   "codemirror_mode": {
    "name": "ipython",
    "version": 3
   },
   "file_extension": ".py",
   "mimetype": "text/x-python",
   "name": "python",
   "nbconvert_exporter": "python",
   "pygments_lexer": "ipython3",
   "version": "3.10.10"
  }
 },
 "nbformat": 4,
 "nbformat_minor": 5
}
